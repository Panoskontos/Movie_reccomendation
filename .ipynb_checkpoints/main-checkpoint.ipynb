{
 "cells": [
  {
   "cell_type": "code",
   "execution_count": 1,
   "id": "4b3806d8",
   "metadata": {},
   "outputs": [
    {
     "ename": "ModuleNotFoundError",
     "evalue": "No module named 'torch'",
     "output_type": "error",
     "traceback": [
      "\u001b[0;31m---------------------------------------------------------------------------\u001b[0m",
      "\u001b[0;31mModuleNotFoundError\u001b[0m                       Traceback (most recent call last)",
      "Cell \u001b[0;32mIn[1], line 6\u001b[0m\n\u001b[1;32m      4\u001b[0m \u001b[38;5;28;01mimport\u001b[39;00m \u001b[38;5;21;01mseaborn\u001b[39;00m \u001b[38;5;28;01mas\u001b[39;00m \u001b[38;5;21;01msns\u001b[39;00m\n\u001b[1;32m      5\u001b[0m \u001b[38;5;28;01mfrom\u001b[39;00m \u001b[38;5;21;01mmpl_toolkits\u001b[39;00m\u001b[38;5;21;01m.\u001b[39;00m\u001b[38;5;21;01mmplot3d\u001b[39;00m \u001b[38;5;28;01mimport\u001b[39;00m Axes3D\n\u001b[0;32m----> 6\u001b[0m \u001b[38;5;28;01mimport\u001b[39;00m \u001b[38;5;21;01mhelper\u001b[39;00m\n\u001b[1;32m      7\u001b[0m \u001b[38;5;28;01mfrom\u001b[39;00m \u001b[38;5;21;01msklearn\u001b[39;00m\u001b[38;5;21;01m.\u001b[39;00m\u001b[38;5;21;01mcluster\u001b[39;00m \u001b[38;5;28;01mimport\u001b[39;00m KMeans\n",
      "File \u001b[0;32m~/Documents/projects/movie_recommendation/helper.py:3\u001b[0m\n\u001b[1;32m      1\u001b[0m \u001b[38;5;28;01mimport\u001b[39;00m \u001b[38;5;21;01mmatplotlib\u001b[39;00m\u001b[38;5;21;01m.\u001b[39;00m\u001b[38;5;21;01mpyplot\u001b[39;00m \u001b[38;5;28;01mas\u001b[39;00m \u001b[38;5;21;01mplt\u001b[39;00m\n\u001b[1;32m      2\u001b[0m \u001b[38;5;28;01mimport\u001b[39;00m \u001b[38;5;21;01mnumpy\u001b[39;00m \u001b[38;5;28;01mas\u001b[39;00m \u001b[38;5;21;01mnp\u001b[39;00m\n\u001b[0;32m----> 3\u001b[0m \u001b[38;5;28;01mfrom\u001b[39;00m \u001b[38;5;21;01mtorch\u001b[39;00m \u001b[38;5;28;01mimport\u001b[39;00m nn, optim\n\u001b[1;32m      4\u001b[0m \u001b[38;5;28;01mfrom\u001b[39;00m \u001b[38;5;21;01mtorch\u001b[39;00m\u001b[38;5;21;01m.\u001b[39;00m\u001b[38;5;21;01mautograd\u001b[39;00m \u001b[38;5;28;01mimport\u001b[39;00m Variable\n\u001b[1;32m      7\u001b[0m \u001b[38;5;28;01mdef\u001b[39;00m \u001b[38;5;21mtest_network\u001b[39m(net, trainloader):\n",
      "\u001b[0;31mModuleNotFoundError\u001b[0m: No module named 'torch'"
     ]
    }
   ],
   "source": [
    "import numpy as np\n",
    "import pandas as pd\n",
    "import matplotlib.pyplot as plt\n",
    "import seaborn as sns\n",
    "from mpl_toolkits.mplot3d import Axes3D\n",
    "import helper\n",
    "from sklearn.cluster import KMeans"
   ]
  },
  {
   "cell_type": "code",
   "execution_count": null,
   "id": "ad23e5b9",
   "metadata": {},
   "outputs": [],
   "source": [
    "# Load the .npy file\n",
    "# data = np.load('Dataset.npy')\n",
    "data = np.load('data/Dataset.npy')\n",
    "data = data[0:100000]\n",
    "print(data)"
   ]
  },
  {
   "cell_type": "code",
   "execution_count": null,
   "id": "c379be6b",
   "metadata": {},
   "outputs": [],
   "source": [
    "# Manipulate the data into a dataframe\n",
    "df = pd.DataFrame([x.split(',') for x in data], columns=['User_ID', 'Movie_ID', 'Rating', 'Date'])\n",
    "print(df)"
   ]
  },
  {
   "cell_type": "code",
   "execution_count": null,
   "id": "85e59da7",
   "metadata": {},
   "outputs": [],
   "source": [
    "# Get unique users, movies\n",
    "\n",
    "unique_users = df['User_ID'].unique()\n",
    "print(\"Unique Users \",len(unique_users))\n",
    "\n",
    "unique_users = df['Movie_ID'].unique()\n",
    "print(\"Unique Movies \",len(unique_users))\n",
    "\n",
    "unique_users = df['Rating'].unique()\n",
    "print(\"Unique Ratings \",len(unique_users))\n",
    "\n",
    "dates = df['Date'].unique()\n",
    "print(\"Unique Dates \",len(dates))"
   ]
  },
  {
   "cell_type": "code",
   "execution_count": null,
   "id": "19f86a8b",
   "metadata": {},
   "outputs": [],
   "source": [
    "# Get users that have more than 100 ratings and 500 ratings\n",
    "Rmin = 100\n",
    "Rmax = 1000\n",
    "\n",
    "# Count the frequency of each user in the dataset\n",
    "user_counts = df['User_ID'].value_counts()\n",
    "\n",
    "# Filter the DataFrame to only include users that appear more than 100 times and less than 300\n",
    "users_between_Rmin_and_Rmax = user_counts[(user_counts > Rmin) & (user_counts < Rmax)].index.tolist()\n",
    "\n",
    "# Print the resulting list of users\n",
    "print(users_between_Rmin_and_Rmax)\n"
   ]
  },
  {
   "cell_type": "code",
   "execution_count": null,
   "id": "2906b581",
   "metadata": {},
   "outputs": [],
   "source": [
    "# Filter the DataFrame to only include users that appear more than 100 times and less than 300\n",
    "df_selected_users = df[df['User_ID'].isin(users_between_Rmin_and_Rmax)]\n",
    "print(df_selected_users)"
   ]
  },
  {
   "cell_type": "code",
   "execution_count": null,
   "id": "54e30bb4",
   "metadata": {},
   "outputs": [],
   "source": [
    "# count the number of occurrences of each rating\n",
    "rating_counts = df_selected_users['Rating'].value_counts()\n",
    "\n",
    "# plot a histogram\n",
    "rating_counts.plot(kind='bar')\n",
    "# set plot title and axis labels\n",
    "plt.title('Ratings given by Users')\n",
    "plt.xlabel('Rating')\n",
    "plt.ylabel('Times given by Users')\n",
    "\n",
    "# display the plot\n",
    "plt.show()"
   ]
  },
  {
   "cell_type": "code",
   "execution_count": null,
   "id": "5f3c3206",
   "metadata": {},
   "outputs": [],
   "source": [
    "# count the number of occurrences of each User\n",
    "user_counts = df_selected_users['User_ID'].value_counts()\n",
    "len(user_counts)"
   ]
  },
  {
   "cell_type": "code",
   "execution_count": null,
   "id": "112e1802",
   "metadata": {},
   "outputs": [],
   "source": [
    "# Adding new column month\n",
    "df_selected_users['Month'] = df_selected_users['Date'].str.split().str[1]\n",
    "# print(df_selected_users)\n",
    "\n",
    "month_counts = df_selected_users['Month'].value_counts()\n",
    "\n",
    "# plot a histogram\n",
    "month_counts.plot(kind='bar')\n",
    "# set plot title and axis labels\n",
    "plt.title('Number of Rating per Month')\n",
    "plt.ylabel('Number of Rating')\n",
    "plt.xlabel('Month')\n",
    "\n",
    "# display the plot\n",
    "plt.show()"
   ]
  },
  {
   "cell_type": "code",
   "execution_count": null,
   "id": "2b393deb",
   "metadata": {},
   "outputs": [],
   "source": [
    "# Ενναλακτικη Αναπαρασταση Δεδομένων\n",
    "\n",
    "# drop duplicates\n",
    "df_grouped = df_selected_users.groupby(['User_ID', 'Movie_ID']).agg({'Rating': 'mean'}).reset_index()\n",
    "print(df_grouped)"
   ]
  },
  {
   "cell_type": "code",
   "execution_count": null,
   "id": "2e6a4389",
   "metadata": {},
   "outputs": [],
   "source": [
    "# pivot the table\n",
    "R = df_grouped.pivot(index='User_ID', columns='Movie_ID', values='Rating')\n",
    "R"
   ]
  },
  {
   "cell_type": "code",
   "execution_count": null,
   "id": "5c238409",
   "metadata": {},
   "outputs": [],
   "source": [
    "# drop movies that are not rated by 100 users at least\n",
    "\n",
    "counts = R.count()\n",
    "# set a threshold value \n",
    "threshold = 5\n",
    "# filter the columns based on the threshold value\n",
    "filtered_df = R.loc[:, counts >= threshold]\n",
    "# print the filtered DataFrame\n",
    "print(filtered_df.shape)"
   ]
  },
  {
   "cell_type": "code",
   "execution_count": null,
   "id": "c4b1312a",
   "metadata": {},
   "outputs": [],
   "source": [
    "R = filtered_df"
   ]
  },
  {
   "cell_type": "code",
   "execution_count": null,
   "id": "6bc402b3",
   "metadata": {},
   "outputs": [],
   "source": [
    "# How many nan values i have\n",
    "num_nan = np.count_nonzero(np.isnan(R))\n",
    "print(num_nan)\n",
    "\n",
    "# How many non nan values i have\n",
    "num_non_nan = np.count_nonzero(~np.isnan(R))\n",
    "print(num_non_nan)\n"
   ]
  },
  {
   "cell_type": "code",
   "execution_count": null,
   "id": "70b6b6aa",
   "metadata": {},
   "outputs": [],
   "source": [
    "# drop columns where all values are NaN\n",
    "R = R.dropna(axis=1, how='all')"
   ]
  },
  {
   "cell_type": "code",
   "execution_count": null,
   "id": "3316f862",
   "metadata": {},
   "outputs": [],
   "source": [
    "sns.heatmap(R, cmap='coolwarm', cbar=False)\n",
    "# set plot title and axis labels\n",
    "plt.title('Movie Ratings by User Heatmap')\n",
    "plt.ylabel('User ID')\n",
    "plt.xlabel('Movie ID')\n",
    "\n",
    "# show the plot\n",
    "plt.show()"
   ]
  },
  {
   "cell_type": "code",
   "execution_count": null,
   "id": "7464d6a4",
   "metadata": {},
   "outputs": [],
   "source": [
    "R.shape"
   ]
  },
  {
   "cell_type": "code",
   "execution_count": null,
   "id": "4f060b35",
   "metadata": {},
   "outputs": [],
   "source": [
    "# replace missing values with 0\n",
    "R = R.fillna(0, inplace=True)"
   ]
  },
  {
   "cell_type": "code",
   "execution_count": null,
   "id": "ff0908d6",
   "metadata": {},
   "outputs": [],
   "source": [
    "# normalize the data\n",
    "df_norm = (R - R.mean()) / R.std()"
   ]
  },
  {
   "cell_type": "code",
   "execution_count": null,
   "id": "c032c483",
   "metadata": {},
   "outputs": [],
   "source": [
    "# cluster the users using k-means\n",
    "kmeans = KMeans(n_clusters=5, random_state=0)\n",
    "clusters = kmeans.fit_predict(df_norm)"
   ]
  },
  {
   "cell_type": "code",
   "execution_count": null,
   "id": "c4e0259f",
   "metadata": {},
   "outputs": [],
   "source": [
    "# add the cluster labels to the dataframe\n",
    "R['cluster'] = clusters\n",
    "\n",
    "# print the number of users in each cluster\n",
    "print(R['cluster'].value_counts())"
   ]
  }
 ],
 "metadata": {
  "kernelspec": {
   "display_name": "Python 3 (ipykernel)",
   "language": "python",
   "name": "python3"
  },
  "language_info": {
   "codemirror_mode": {
    "name": "ipython",
    "version": 3
   },
   "file_extension": ".py",
   "mimetype": "text/x-python",
   "name": "python",
   "nbconvert_exporter": "python",
   "pygments_lexer": "ipython3",
   "version": "3.10.6"
  }
 },
 "nbformat": 4,
 "nbformat_minor": 5
}
